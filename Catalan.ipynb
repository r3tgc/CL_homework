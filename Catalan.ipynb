{
 "cells": [
  {
   "cell_type": "markdown",
   "metadata": {},
   "source": [
    "# Алгоритм Витерби для каталанского корпуса"
   ]
  },
  {
   "cell_type": "markdown",
   "metadata": {},
   "source": [
    "Импортируем библиотеки"
   ]
  },
  {
   "cell_type": "code",
   "execution_count": 1,
   "metadata": {},
   "outputs": [],
   "source": [
    "import conllu # парсилка корпуса\n",
    "from io import open\n",
    "import pickle # для сохранения состояния обучения\n",
    "import numpy as np"
   ]
  },
  {
   "cell_type": "code",
   "execution_count": 2,
   "metadata": {},
   "outputs": [],
   "source": [
    "dir_in = \"./UD_Catalan-AnCora/\"\n",
    "train_file = \"ca_ancora-ud-train.conllu\"\n",
    "test_file = \"ca_ancora-ud-test.conllu\""
   ]
  },
  {
   "cell_type": "markdown",
   "metadata": {},
   "source": [
    "Открываем файл с тренировочным корпусом"
   ]
  },
  {
   "cell_type": "code",
   "execution_count": 3,
   "metadata": {},
   "outputs": [],
   "source": [
    "data_train = conllu.parse_incr(open(dir_in+train_file,'r',encoding = \"utf-8\"))"
   ]
  },
  {
   "cell_type": "markdown",
   "metadata": {},
   "source": [
    "Подсчитываем количество триграммов,биграммов и монограммов в корпусе,используя словари"
   ]
  },
  {
   "cell_type": "code",
   "execution_count": 4,
   "metadata": {},
   "outputs": [],
   "source": [
    "c3 = {} # количество различных триграммов \n",
    "c2 = {} # //---//---// биграммов\n",
    "c1 = {} # //---//---// монограммов\n",
    "cT = {} # //---//---// пар слово-тег\n",
    "for tokenlist in data_train:\n",
    "    sentence = [[\"*\",\"*\"]] + [[\"*\",\"*\"]] + [[tokenlist[i][\"lemma\"], tokenlist[i][\"upostag\"]]\n",
    "        for i in range(len(tokenlist)) ] + [[\"STOP\",\"STOP\"]]\n",
    "\n",
    "    for i in range(0, len(sentence)-2):\n",
    "        c3old = c3.get( (sentence[i][1], sentence[i+1][1], sentence[i+2][1]), 0)# если такого триграмма еще нет в словаре,вернуть 0\n",
    "        c3.update( { (sentence[i][1], sentence[i+1][1], sentence[i+2][1]): c3old+1 } ) #если есть,увеличиваем количество на 1\n",
    "\n",
    "    for i in range(0, len(sentence)-1):\n",
    "        c2old = c2.get( (sentence[i][1], sentence[i+1][1]), 0)\n",
    "        c2.update( { (sentence[i][1], sentence[i+1][1]): c2old+1 } )\n",
    "\n",
    "    for i in range(0, len(sentence)):\n",
    "        c1old = c1.get( (sentence[i][1]), 0)\n",
    "        c1.update( { (sentence[i][1]): c1old+1 } )\n",
    "\n",
    "    for i in range(0, len(sentence)):\n",
    "        cTold = cT.get( (sentence[i][1], sentence[i][0]), 0)\n",
    "        cT.update( { (sentence[i][1], sentence[i][0]): cTold+1 } )\n"
   ]
  },
  {
   "cell_type": "markdown",
   "metadata": {},
   "source": [
    "Сохраняем данные в пикл, чтобы потом использовать, не обучая заново"
   ]
  },
  {
   "cell_type": "code",
   "execution_count": 5,
   "metadata": {
    "scrolled": true
   },
   "outputs": [
    {
     "name": "stdout",
     "output_type": "stream",
     "text": [
      "2748\n",
      "256\n",
      "20\n",
      "23534\n"
     ]
    }
   ],
   "source": [
    "print (len(c3))\n",
    "print (len(c2))\n",
    "print (len(c1))\n",
    "print (len(cT))\n",
    "\n",
    "# Saving:\n",
    "with open('cs_catalan.pkl', 'wb') as f:\n",
    "    pickle.dump([cT, c1, c2, c3], f)\n"
   ]
  },
  {
   "cell_type": "markdown",
   "metadata": {},
   "source": [
    "Загружаем данные из файла обратно"
   ]
  },
  {
   "cell_type": "code",
   "execution_count": 6,
   "metadata": {},
   "outputs": [],
   "source": [
    "# Getting back the cs:\n",
    "with open('cs_catalan.pkl', 'rb') as f:\n",
    "    cT, c1, c2, c3 = pickle.load(f)"
   ]
  },
  {
   "cell_type": "code",
   "execution_count": 7,
   "metadata": {},
   "outputs": [],
   "source": [
    "tags = list(c1.keys())# список уникальных тегов\n",
    "tags.remove('*')\n",
    "tags.remove('STOP')\n",
    "k = len(tags) # количество уникальных тегов"
   ]
  },
  {
   "cell_type": "markdown",
   "metadata": {},
   "source": [
    "Вспомогательные функции из алгоритма Витерби"
   ]
  },
  {
   "cell_type": "code",
   "execution_count": 8,
   "metadata": {},
   "outputs": [
    {
     "name": "stdout",
     "output_type": "stream",
     "text": [
      "['ADP', 'AUX', 'ADV', 'DET', 'SCONJ', 'INTJ', 'SYM', 'PUNCT', 'PROPN', 'NUM', 'CCONJ', '_', 'NOUN', 'ADJ', 'X', 'PRON', 'VERB', 'PART']\n"
     ]
    }
   ],
   "source": [
    "def q(s, u, v):\n",
    "    eps = 1e-7\n",
    "    return c3.get((u, v, s), eps) / c2.get((u, v), eps)\n",
    "\n",
    "\n",
    "def e(x, s):\n",
    "    eps = 1e-7\n",
    "    return cT.get((s, x), eps) / c1.get((s), eps)\n",
    "\n",
    "\n",
    "def K(n): # выдает возможные тэги в зависимости от положения слова в предложении (в начале предложения - *) \n",
    "    if n == -1 or n == 0:\n",
    "        return ['*']\n",
    "    else:\n",
    "        return tags\n",
    "\n",
    "print(K(10))\n"
   ]
  },
  {
   "cell_type": "markdown",
   "metadata": {},
   "source": [
    "Сам алгоритм Витерби в виде функции от токенизированного предложения ,возвращающей список тегов"
   ]
  },
  {
   "cell_type": "code",
   "execution_count": 9,
   "metadata": {},
   "outputs": [],
   "source": [
    "def viterbi(sent):\n",
    "    Pi = {(0, '*', '*'): 1}\n",
    "    bp = {}\n",
    "    n = len(sent) - 2\n",
    "    y = [\"\"] * (n + 1)\n",
    "\n",
    "    for k in range(1, n + 1):\n",
    "        xk = sent[k]\n",
    "       \n",
    "        for u in K(k-1):\n",
    "            for v in K(k):\n",
    "                w = K(k-2)\n",
    "                v1 = map(lambda wi:\n",
    "                            Pi.get((k-1, wi, u)) *\n",
    "                            q(v, wi, u) *\n",
    "                            e(xk, v), w)\n",
    "                v1 = list(v1)\n",
    "                PiNew = max(v1)\n",
    "                bpNew = w[v1.index(PiNew)]\n",
    "                Pi.update({(k, u, v): PiNew})\n",
    "                bp.update({(k, u, v): bpNew})\n",
    "\n",
    "    v2 = {}\n",
    "    for u in K(n-1):\n",
    "        for v in K(n):\n",
    "            v2.update({(n, u, v): Pi.get((n, u, v)) * q(\"STOP\", u, v)})\n",
    "\n",
    "    v2max = max(list(v2.values()))\n",
    "    for (n, u, v), val in v2.items():\n",
    "        if val == v2max:\n",
    "            (y[n-1], y[n]) = (u,v)\n",
    "\n",
    "    for k in range(n-2, 0, -1):\n",
    "        y[k] = bp.get((k + 2, y[k+1], y[k+2]))\n",
    "\n",
    "    #print(y[1:])\n",
    "    return y[1:]\n"
   ]
  },
  {
   "cell_type": "markdown",
   "metadata": {},
   "source": [
    "Открываем тестовый корпус и прогоняем по нему алгоритм"
   ]
  },
  {
   "cell_type": "code",
   "execution_count": 10,
   "metadata": {
    "scrolled": true
   },
   "outputs": [],
   "source": [
    "data_test = conllu.parse_incr(open(dir_in+test_file,'r',encoding = \"utf-8\"))\n",
    "test_tags = [] # оригинальные теги корпуса\n",
    "predict_tags = [] # предсказанные алгоритмом\n",
    "\n",
    "for tokenlist in data_test:\n",
    "    sentence=[\"*\"] + [tokenlist[i][\"lemma\"] for i in range(len(tokenlist)) ] + [\"STOP\"]\n",
    "    test_tags.append([tokenlist[i][\"upostag\"] for i in range(len(tokenlist)) ])\n",
    "    predict_tags.append(viterbi(sentence))"
   ]
  },
  {
   "cell_type": "markdown",
   "metadata": {},
   "source": [
    "Считаем ошибку как отношение количества неправильно предсказанных тегов к общему числу тегов"
   ]
  },
  {
   "cell_type": "code",
   "execution_count": 11,
   "metadata": {},
   "outputs": [
    {
     "name": "stdout",
     "output_type": "stream",
     "text": [
      "Error =  0.05064406281395883\n"
     ]
    }
   ],
   "source": [
    "err = 0.\n",
    "for sent in range(len(test_tags)):\n",
    "    err += np.mean(np.array(test_tags[sent]) != np.array(predict_tags[sent]))\n",
    "print('Error = ', err/len(test_tags))   "
   ]
  },
  {
   "cell_type": "code",
   "execution_count": null,
   "metadata": {},
   "outputs": [],
   "source": []
  }
 ],
 "metadata": {
  "kernelspec": {
   "display_name": "Python 3",
   "language": "python",
   "name": "python3"
  },
  "language_info": {
   "codemirror_mode": {
    "name": "ipython",
    "version": 3
   },
   "file_extension": ".py",
   "mimetype": "text/x-python",
   "name": "python",
   "nbconvert_exporter": "python",
   "pygments_lexer": "ipython3",
   "version": "3.5.2"
  }
 },
 "nbformat": 4,
 "nbformat_minor": 2
}
